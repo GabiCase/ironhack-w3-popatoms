{
 "cells": [
  {
   "cell_type": "markdown",
   "metadata": {},
   "source": [
    "# Pop atoms\n",
    "Let's find the musical atoms that make up the most popular hits of the last decades"
   ]
  },
  {
   "cell_type": "markdown",
   "metadata": {},
   "source": [
    "## Import functions and libraries"
   ]
  },
  {
   "cell_type": "code",
   "execution_count": 4,
   "metadata": {},
   "outputs": [],
   "source": [
    "from functions import *\n",
    "from os.path import exists"
   ]
  },
  {
   "cell_type": "markdown",
   "metadata": {},
   "source": [
    "## Get data"
   ]
  },
  {
   "cell_type": "code",
   "execution_count": 5,
   "metadata": {},
   "outputs": [],
   "source": [
    "if not exists(\"df_ranks_weekly.csv\"):\n",
    "    # Get all the Billboard data.\n",
    "    # Billboard collects the most popular songs weekly since 1958. This is the data we will use for this project.\n",
    "    if exists(\"df_ranks_weekly_temp.csv\"):\n",
    "        temp_csv_path = \"df_ranks_weekly_temp.csv\"\n",
    "    else:\n",
    "        temp_csv_path = \"\"\n",
    "        \n",
    "    billboard_ranks_raw = create_weekly_ranks_df(\"1958-01-01\", \"2024-08-31\", csv_path = temp_csv_path)\n",
    "    \n",
    "    # Save the cleaned data to a CSV file to avoid having to recalculate it.\n",
    "    billboard_ranks_raw.to_csv(\"df_ranks_weekly.csv\", index=False)\n"
   ]
  },
  {
   "cell_type": "code",
   "execution_count": null,
   "metadata": {},
   "outputs": [],
   "source": [
    "if not exists(\"df_ranks_peaks.csv\"):    \n",
    "# Get peak values. \n",
    "    # Some songs are listed more than once, as they come up several times in the charts for different weeks. \n",
    "    # We will only keep one entry for each song, calculate the peak position, maximum number of weeks on the chart, and date that peak position was reached for each song.  \n",
    "\n",
    "#    billboard_ranks_raw = pd.read_csv(\"billboard_rank_raw.csv\")\n",
    "    billboard_ranks_raw = pd.read_csv(\"df_ranks_weekly.csv\")\n",
    "\n",
    "    billboard_ranks_peak = calculate_rank_peak_data(billboard_ranks_raw)\n",
    "\n",
    "    # Save the cleaned data to a CSV file.\n",
    "    billboard_ranks_peak.to_csv(\"df_ranks_peaks.csv.csv\", index=False)"
   ]
  },
  {
   "cell_type": "code",
   "execution_count": null,
   "metadata": {},
   "outputs": [],
   "source": [
    "## Add audio analysis data\n",
    "\n",
    "if not exists(\"df_audio_analysis.csv\"):\n",
    "\n",
    "    # Load the cleaned data\n",
    "    billboard_ranks_peak = pd.read_csv(\"billboard_rank_peaks.csv\")\n",
    "\n",
    "    # add audio analysis columns\n",
    "    audio_analysis_df = create_audio_analysis_df (billboard_ranks_peak)\n",
    "\n",
    "    # Save the cleaned data to a CSV file.\n",
    "    audio_analysis_df.to_csv(\"df_audio_analysis.csv\", index=False)\n"
   ]
  },
  {
   "cell_type": "markdown",
   "metadata": {},
   "source": [
    "## Clean data"
   ]
  },
  {
   "cell_type": "code",
   "execution_count": null,
   "metadata": {},
   "outputs": [],
   "source": [
    "# read data from csv\n",
    "audio_analysis_df = pd.read_csv(\"audio_analysis.csv\")"
   ]
  },
  {
   "cell_type": "markdown",
   "metadata": {},
   "source": [
    "## Explore data"
   ]
  },
  {
   "cell_type": "code",
   "execution_count": null,
   "metadata": {},
   "outputs": [],
   "source": []
  },
  {
   "cell_type": "code",
   "execution_count": null,
   "metadata": {},
   "outputs": [],
   "source": []
  }
 ],
 "metadata": {
  "kernelspec": {
   "display_name": ".venv",
   "language": "python",
   "name": "python3"
  },
  "language_info": {
   "codemirror_mode": {
    "name": "ipython",
    "version": 3
   },
   "file_extension": ".py",
   "mimetype": "text/x-python",
   "name": "python",
   "nbconvert_exporter": "python",
   "pygments_lexer": "ipython3",
   "version": "3.12.4"
  }
 },
 "nbformat": 4,
 "nbformat_minor": 2
}
