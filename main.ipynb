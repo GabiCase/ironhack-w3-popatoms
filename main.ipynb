{
 "cells": [
  {
   "cell_type": "markdown",
   "metadata": {},
   "source": [
    "# Pop atoms\n",
    "Let's find the musical atoms that make up the most popular hits of the last decades"
   ]
  },
  {
   "cell_type": "markdown",
   "metadata": {},
   "source": [
    "## Import functions and libraries"
   ]
  },
  {
   "cell_type": "code",
   "execution_count": 4,
   "metadata": {},
   "outputs": [],
   "source": [
    "from functions import *\n",
    "from os.path import exists"
   ]
  },
  {
   "cell_type": "markdown",
   "metadata": {},
   "source": [
    "## Get data"
   ]
  },
  {
   "cell_type": "markdown",
   "metadata": {},
   "source": [
    "We want to compare the audio features of the most popular songs of before 1962 (before the Beatles era), with a more general sample of popular songs from the 60's to current time. "
   ]
  },
  {
   "cell_type": "markdown",
   "metadata": {},
   "source": [
    "### Popular before The Beatles"
   ]
  },
  {
   "cell_type": "code",
   "execution_count": null,
   "metadata": {},
   "outputs": [],
   "source": [
    "# Get all the Billboard data.\n",
    "# Billboard collects the most popular songs weekly since 1958. This is the data we will use for this project.\n",
    "# The API may fail, so to avoid having to repeat queries, we save the data continuously int a csv (\"df_ranks_weekly.csv\")\n",
    "\n",
    "recalculate = False\n",
    "\n",
    "if recalculate:\n",
    "\n",
    "    if exists(\"df_ranks_weekly_temp.csv\"):\n",
    "        temp_csv_path = \"df_ranks_weekly.csv\"\n",
    "    else:\n",
    "        temp_csv_path = \"\"\n",
    "        \n",
    "    df_ranks_weekly = create_weekly_ranks_df(\"1958-01-01\", \"1961-12-31\", csv_path = temp_csv_path)"
   ]
  },
  {
   "cell_type": "code",
   "execution_count": null,
   "metadata": {},
   "outputs": [],
   "source": [
    "# Get peak values. \n",
    "# Some songs are listed more than once, as they come up several times in the charts for different weeks. \n",
    "# We will only keep one entry for each song, calculate the peak position, maximum number of weeks on the chart, and date that peak position was reached for each song.  \n",
    "\n",
    "if not exists(\"df_ranks_peaks.csv\"):    \n",
    "\n",
    "#    billboard_ranks_raw = pd.read_csv(\"billboard_rank_raw.csv\")\n",
    "    df_ranks_weekly = pd.read_csv(\"df_ranks_weekly.csv\")\n",
    "\n",
    "    df_ranks_peaks = calculate_ranks_peaks(df_ranks_weekly)\n",
    "\n",
    "    # Save the cleaned data to a CSV file.\n",
    "    df_ranks_peaks.to_csv(\"df_ranks_peaks.csv.csv\", index=False)"
   ]
  },
  {
   "cell_type": "code",
   "execution_count": null,
   "metadata": {},
   "outputs": [],
   "source": [
    "## Get audio analysis data from Spotify.\n",
    "\n",
    "if not exists(\"df_audio_analysis_60.csv\"):\n",
    "\n",
    "    # Load the cleaned data\n",
    "    df_ranks_peaks = pd.read_csv(\"df_ranks_peaks.csv\")\n",
    "\n",
    "    # add audio analysis columns\n",
    "    audio_analysis_df = create_audio_analysis_df(df_ranks_peaks)\n",
    "\n",
    "    # Save the cleaned data to a CSV file.\n",
    "    audio_analysis_df.to_csv(\"df_audio_analysis.csv\", index=False)"
   ]
  },
  {
   "cell_type": "markdown",
   "metadata": {},
   "source": [
    "### Popular of all time"
   ]
  },
  {
   "cell_type": "code",
   "execution_count": 8,
   "metadata": {},
   "outputs": [],
   "source": [
    "# We asked GPT for a list of songs that represent the greatest hits from year to year since 1960. \n",
    "# The result was stored in a csv file \"df_songs_sample.csv\"\n",
    "\n",
    "df_songs_sample = pd.read_csv(\"df_songs_sample.csv\")\n",
    "\n",
    "# we need to melt the dataframe to have one column for years, one column for titles, and one column for the artist name. \n",
    "df_songs_sample = df_songs_sample.melt(var_name='peak_year', value_name='title')\n",
    "df_songs_sample[\"artist\"] = df_songs_sample[\"title\"].str.split(\" - \").str[0]\n",
    "df_songs_sample[\"title\"] = df_songs_sample[\"title\"].str.split(\" - \").str[1]"
   ]
  },
  {
   "cell_type": "code",
   "execution_count": 9,
   "metadata": {},
   "outputs": [
    {
     "data": {
      "text/html": [
       "<div>\n",
       "<style scoped>\n",
       "    .dataframe tbody tr th:only-of-type {\n",
       "        vertical-align: middle;\n",
       "    }\n",
       "\n",
       "    .dataframe tbody tr th {\n",
       "        vertical-align: top;\n",
       "    }\n",
       "\n",
       "    .dataframe thead th {\n",
       "        text-align: right;\n",
       "    }\n",
       "</style>\n",
       "<table border=\"1\" class=\"dataframe\">\n",
       "  <thead>\n",
       "    <tr style=\"text-align: right;\">\n",
       "      <th></th>\n",
       "      <th>peak_year</th>\n",
       "      <th>title</th>\n",
       "      <th>artist</th>\n",
       "    </tr>\n",
       "  </thead>\n",
       "  <tbody>\n",
       "    <tr>\n",
       "      <th>0</th>\n",
       "      <td>1960</td>\n",
       "      <td>It's Now or Never</td>\n",
       "      <td>Elvis Presley</td>\n",
       "    </tr>\n",
       "    <tr>\n",
       "      <th>1</th>\n",
       "      <td>1960</td>\n",
       "      <td>Smoke Gets in Your Eyes</td>\n",
       "      <td>The Platters</td>\n",
       "    </tr>\n",
       "    <tr>\n",
       "      <th>2</th>\n",
       "      <td>1960</td>\n",
       "      <td>The Twist</td>\n",
       "      <td>Chubby Checker</td>\n",
       "    </tr>\n",
       "    <tr>\n",
       "      <th>3</th>\n",
       "      <td>1960</td>\n",
       "      <td>Theme from A Summer Place</td>\n",
       "      <td>Percy Faith</td>\n",
       "    </tr>\n",
       "    <tr>\n",
       "      <th>4</th>\n",
       "      <td>1960</td>\n",
       "      <td>Save the Last Dance for Me</td>\n",
       "      <td>The Drifters</td>\n",
       "    </tr>\n",
       "    <tr>\n",
       "      <th>...</th>\n",
       "      <td>...</td>\n",
       "      <td>...</td>\n",
       "      <td>...</td>\n",
       "    </tr>\n",
       "    <tr>\n",
       "      <th>320</th>\n",
       "      <td>2024</td>\n",
       "      <td>Good 4 U</td>\n",
       "      <td>Olivia Rodrigo</td>\n",
       "    </tr>\n",
       "    <tr>\n",
       "      <th>321</th>\n",
       "      <td>2024</td>\n",
       "      <td>Dance the Night</td>\n",
       "      <td>Dua Lipa</td>\n",
       "    </tr>\n",
       "    <tr>\n",
       "      <th>322</th>\n",
       "      <td>2024</td>\n",
       "      <td>Save Your Tears</td>\n",
       "      <td>The Weeknd</td>\n",
       "    </tr>\n",
       "    <tr>\n",
       "      <th>323</th>\n",
       "      <td>2024</td>\n",
       "      <td>SOS</td>\n",
       "      <td>SZA</td>\n",
       "    </tr>\n",
       "    <tr>\n",
       "      <th>324</th>\n",
       "      <td>2024</td>\n",
       "      <td>Rich Flex</td>\n",
       "      <td>Drake</td>\n",
       "    </tr>\n",
       "  </tbody>\n",
       "</table>\n",
       "<p>325 rows × 3 columns</p>\n",
       "</div>"
      ],
      "text/plain": [
       "    peak_year                       title          artist\n",
       "0        1960           It's Now or Never   Elvis Presley\n",
       "1        1960     Smoke Gets in Your Eyes    The Platters\n",
       "2        1960                   The Twist  Chubby Checker\n",
       "3        1960   Theme from A Summer Place     Percy Faith\n",
       "4        1960  Save the Last Dance for Me    The Drifters\n",
       "..        ...                         ...             ...\n",
       "320      2024                    Good 4 U  Olivia Rodrigo\n",
       "321      2024             Dance the Night        Dua Lipa\n",
       "322      2024             Save Your Tears      The Weeknd\n",
       "323      2024                         SOS             SZA\n",
       "324      2024                   Rich Flex           Drake\n",
       "\n",
       "[325 rows x 3 columns]"
      ]
     },
     "execution_count": 9,
     "metadata": {},
     "output_type": "execute_result"
    }
   ],
   "source": [
    "# We can now query these songs from spotify. \n",
    "\n",
    "if not exists(\"df_audio_analysis_sample.csv\"):\n",
    "    df_audio_analysis_sample = create_audio_analysis_df(df_songs_sample)\n",
    "\n",
    "    # Save the cleaned data to a CSV file.\n",
    "    df_audio_analysis_sample.to_csv(\"df_audio_analysis_sample.csv\", index=False)"
   ]
  },
  {
   "cell_type": "markdown",
   "metadata": {},
   "source": [
    "## Clean data"
   ]
  },
  {
   "cell_type": "code",
   "execution_count": null,
   "metadata": {},
   "outputs": [],
   "source": [
    "# read data from csv\n",
    "audio_analysis_df = pd.read_csv(\"audio_analysis.csv\")"
   ]
  },
  {
   "cell_type": "markdown",
   "metadata": {},
   "source": [
    "## Explore data"
   ]
  },
  {
   "cell_type": "code",
   "execution_count": null,
   "metadata": {},
   "outputs": [],
   "source": []
  },
  {
   "cell_type": "code",
   "execution_count": null,
   "metadata": {},
   "outputs": [],
   "source": []
  }
 ],
 "metadata": {
  "kernelspec": {
   "display_name": ".venv",
   "language": "python",
   "name": "python3"
  },
  "language_info": {
   "codemirror_mode": {
    "name": "ipython",
    "version": 3
   },
   "file_extension": ".py",
   "mimetype": "text/x-python",
   "name": "python",
   "nbconvert_exporter": "python",
   "pygments_lexer": "ipython3",
   "version": "3.12.4"
  }
 },
 "nbformat": 4,
 "nbformat_minor": 2
}
